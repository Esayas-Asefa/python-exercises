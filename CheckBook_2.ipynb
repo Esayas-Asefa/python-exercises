{
 "cells": [
  {
   "cell_type": "code",
   "execution_count": 1,
   "id": "eb8320fb",
   "metadata": {},
   "outputs": [],
   "source": [
    "import json"
   ]
  },
  {
   "cell_type": "code",
   "execution_count": null,
   "id": "33fe8293",
   "metadata": {
    "scrolled": true
   },
   "outputs": [],
   "source": [
    "import json\n",
    "x = ch\n",
    "while ch1 == x:\n",
    "    print(\" 1. View Current Balance\\n 2. Withdrawal\\n 3. Deposit\\n 4. Exit\")\n",
    "    if x == 1:\n",
    "        chckbalance()\n",
    "    elif x == 2:\n",
    "        amnt=int(input(\"Enter Amount to Withdrawal:\"))\n",
    "        withdrawal(amnt)\n",
    "    elif x == 3:\n",
    "        amnt=int(input(\"Enter Amount to Deposit:\"))\n",
    "        deposit(amnt)\n",
    "    else:\n",
    "        print(\"Please select any 4 options available above.\")"
   ]
  },
  {
   "cell_type": "code",
   "execution_count": null,
   "id": "b31307ca",
   "metadata": {},
   "outputs": [],
   "source": [
    "# Current balance is all_deposits minus all_withdrawal\n",
    "# Withdrawal is balance-withdrawal amount\n",
    "# Deposit is balance+deposit\n",
    "# View Current Balance = print(deposit-withdrawal)\n",
    "# if/elif statements\n",
    "# else print()"
   ]
  },
  {
   "cell_type": "code",
   "execution_count": 52,
   "id": "79c19ec3",
   "metadata": {},
   "outputs": [
    {
     "name": "stdout",
     "output_type": "stream",
     "text": [
      "1\n",
      "2\n",
      "3\n",
      "4\n",
      "5\n",
      "6\n",
      "7\n",
      "8\n",
      "9\n",
      "10\n",
      "11\n",
      "12\n",
      "13\n",
      "14\n",
      "15\n",
      "16\n",
      "17\n",
      "18\n",
      "19\n",
      "20\n",
      "21\n",
      "22\n",
      "23\n",
      "24\n",
      "25\n",
      "26\n",
      "27\n",
      "28\n",
      "29\n",
      "30\n",
      "31\n",
      "32\n",
      "33\n",
      "34\n",
      "35\n",
      "36\n",
      "37\n",
      "38\n",
      "39\n",
      "40\n",
      "41\n",
      "42\n",
      "43\n",
      "44\n",
      "45\n",
      "46\n",
      "47\n",
      "48\n",
      "49\n",
      "50\n",
      "51\n",
      "52\n",
      "53\n",
      "54\n",
      "55\n",
      "56\n",
      "57\n",
      "58\n",
      "59\n",
      "60\n",
      "61\n",
      "62\n",
      "63\n",
      "64\n",
      "65\n",
      "66\n",
      "67\n",
      "68\n",
      "69\n",
      "70\n",
      "71\n",
      "72\n",
      "73\n",
      "74\n",
      "75\n",
      "76\n",
      "77\n",
      "78\n",
      "79\n",
      "80\n",
      "81\n",
      "82\n",
      "83\n",
      "84\n",
      "85\n",
      "86\n",
      "87\n",
      "88\n",
      "89\n",
      "90\n",
      "91\n",
      "92\n",
      "93\n",
      "94\n",
      "95\n",
      "96\n",
      "97\n",
      "98\n",
      "99\n",
      "100\n"
     ]
    }
   ],
   "source": [
    "i = 0\n",
    "\n",
    "while i < 100:\n",
    "    \n",
    "    i += 1\n",
    "    \n",
    "    print(i)"
   ]
  },
  {
   "cell_type": "code",
   "execution_count": 51,
   "id": "8688d083",
   "metadata": {},
   "outputs": [
    {
     "name": "stdout",
     "output_type": "stream",
     "text": [
      "this message\n"
     ]
    }
   ],
   "source": [
    "print(\"this message\")"
   ]
  },
  {
   "cell_type": "code",
   "execution_count": null,
   "id": "ae8c315c",
   "metadata": {},
   "outputs": [],
   "source": []
  }
 ],
 "metadata": {
  "kernelspec": {
   "display_name": "Python 3 (ipykernel)",
   "language": "python",
   "name": "python3"
  },
  "language_info": {
   "codemirror_mode": {
    "name": "ipython",
    "version": 3
   },
   "file_extension": ".py",
   "mimetype": "text/x-python",
   "name": "python",
   "nbconvert_exporter": "python",
   "pygments_lexer": "ipython3",
   "version": "3.9.13"
  }
 },
 "nbformat": 4,
 "nbformat_minor": 5
}
