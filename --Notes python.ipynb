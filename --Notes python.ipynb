{
 "cells": [
  {
   "cell_type": "code",
   "execution_count": 1,
   "id": "a5a1734f",
   "metadata": {},
   "outputs": [
    {
     "name": "stdout",
     "output_type": "stream",
     "text": [
      "Hello World\n"
     ]
    }
   ],
   "source": [
    "print('Hello World')"
   ]
  },
  {
   "cell_type": "code",
   "execution_count": null,
   "id": "11ac19dd",
   "metadata": {},
   "outputs": [],
   "source": [
    "Python Data Types\n",
    "Booleans"
   ]
  },
  {
   "cell_type": "code",
   "execution_count": 2,
   "id": "d65b8512",
   "metadata": {},
   "outputs": [
    {
     "data": {
      "text/plain": [
       "True"
      ]
     },
     "execution_count": 2,
     "metadata": {},
     "output_type": "execute_result"
    }
   ],
   "source": [
    "True"
   ]
  },
  {
   "cell_type": "code",
   "execution_count": 3,
   "id": "e0a02f57",
   "metadata": {},
   "outputs": [
    {
     "data": {
      "text/plain": [
       "False"
      ]
     },
     "execution_count": 3,
     "metadata": {},
     "output_type": "execute_result"
    }
   ],
   "source": [
    "False"
   ]
  },
  {
   "cell_type": "code",
   "execution_count": 5,
   "id": "22e220b9",
   "metadata": {},
   "outputs": [
    {
     "data": {
      "text/plain": [
       "True"
      ]
     },
     "execution_count": 5,
     "metadata": {},
     "output_type": "execute_result"
    }
   ],
   "source": [
    "True == True"
   ]
  },
  {
   "cell_type": "code",
   "execution_count": 6,
   "id": "17b4a066",
   "metadata": {},
   "outputs": [
    {
     "data": {
      "text/plain": [
       "True"
      ]
     },
     "execution_count": 6,
     "metadata": {},
     "output_type": "execute_result"
    }
   ],
   "source": [
    "False == False"
   ]
  },
  {
   "cell_type": "raw",
   "id": "400b9c46",
   "metadata": {},
   "source": [
    "Variable Assignment\n"
   ]
  },
  {
   "cell_type": "code",
   "execution_count": 7,
   "id": "ebb0513e",
   "metadata": {},
   "outputs": [],
   "source": [
    "x = 1"
   ]
  },
  {
   "cell_type": "code",
   "execution_count": 8,
   "id": "bb15675b",
   "metadata": {},
   "outputs": [
    {
     "data": {
      "text/plain": [
       "1"
      ]
     },
     "execution_count": 8,
     "metadata": {},
     "output_type": "execute_result"
    }
   ],
   "source": [
    "x"
   ]
  },
  {
   "cell_type": "code",
   "execution_count": 10,
   "id": "40ff4435",
   "metadata": {},
   "outputs": [],
   "source": [
    "x = 2 "
   ]
  },
  {
   "cell_type": "code",
   "execution_count": 11,
   "id": "a6ea719d",
   "metadata": {},
   "outputs": [
    {
     "data": {
      "text/plain": [
       "True"
      ]
     },
     "execution_count": 11,
     "metadata": {},
     "output_type": "execute_result"
    }
   ],
   "source": [
    "x == 2"
   ]
  },
  {
   "cell_type": "code",
   "execution_count": null,
   "id": "6fe15508",
   "metadata": {},
   "outputs": [],
   "source": [
    "Numbers\n"
   ]
  },
  {
   "cell_type": "code",
   "execution_count": 12,
   "id": "d351e4d7",
   "metadata": {},
   "outputs": [
    {
     "data": {
      "text/plain": [
       "1"
      ]
     },
     "execution_count": 12,
     "metadata": {},
     "output_type": "execute_result"
    }
   ],
   "source": [
    "1"
   ]
  },
  {
   "cell_type": "code",
   "execution_count": 14,
   "id": "17f1c20b",
   "metadata": {},
   "outputs": [
    {
     "data": {
      "text/plain": [
       "int"
      ]
     },
     "execution_count": 14,
     "metadata": {},
     "output_type": "execute_result"
    }
   ],
   "source": [
    "type(1)"
   ]
  },
  {
   "cell_type": "code",
   "execution_count": 15,
   "id": "47300f8f",
   "metadata": {},
   "outputs": [
    {
     "data": {
      "text/plain": [
       "float"
      ]
     },
     "execution_count": 15,
     "metadata": {},
     "output_type": "execute_result"
    }
   ],
   "source": [
    "type(1.0)"
   ]
  },
  {
   "cell_type": "markdown",
   "id": "9e694e1e",
   "metadata": {},
   "source": [
    "4.0/3"
   ]
  },
  {
   "cell_type": "code",
   "execution_count": 16,
   "id": "e649c1bd",
   "metadata": {},
   "outputs": [
    {
     "data": {
      "text/plain": [
       "1.3333333333333333"
      ]
     },
     "execution_count": 16,
     "metadata": {},
     "output_type": "execute_result"
    }
   ],
   "source": [
    "4.0/3"
   ]
  },
  {
   "cell_type": "code",
   "execution_count": null,
   "id": "1ed439a8",
   "metadata": {},
   "outputs": [],
   "source": [
    "% is a modulo and will give you the remainder, with int(x) can incase a float so that it turns into an integer\n"
   ]
  },
  {
   "cell_type": "code",
   "execution_count": null,
   "id": "1f7886d5",
   "metadata": {},
   "outputs": [],
   "source": [
    "strings \n",
    "\n",
    "two sets of \"\"\"\"\"\" will allow multiple lines of texts\n",
    "\n",
    "Can do comparisons, like numbers, with strings"
   ]
  },
  {
   "cell_type": "code",
   "execution_count": 20,
   "id": "3192d8d4",
   "metadata": {
    "scrolled": true
   },
   "outputs": [
    {
     "data": {
      "text/plain": [
       "'abc def'"
      ]
     },
     "execution_count": 20,
     "metadata": {},
     "output_type": "execute_result"
    }
   ],
   "source": [
    "'abc' +' ' 'def'"
   ]
  },
  {
   "cell_type": "code",
   "execution_count": null,
   "id": "710cbcd4",
   "metadata": {},
   "outputs": [],
   "source": [
    "quote on number will treat number as integer"
   ]
  },
  {
   "cell_type": "code",
   "execution_count": 18,
   "id": "f623ab0f",
   "metadata": {},
   "outputs": [
    {
     "name": "stdout",
     "output_type": "stream",
     "text": [
      "Write Something:something\n"
     ]
    }
   ],
   "source": [
    "my_response = input('Write Something:')"
   ]
  },
  {
   "cell_type": "code",
   "execution_count": null,
   "id": "f0e1a812",
   "metadata": {},
   "outputs": [],
   "source": [
    "String Formatting"
   ]
  },
  {
   "cell_type": "code",
   "execution_count": 21,
   "id": "d5f20f88",
   "metadata": {},
   "outputs": [],
   "source": [
    "name = \"Esayas\""
   ]
  },
  {
   "cell_type": "code",
   "execution_count": 22,
   "id": "4ef4b016",
   "metadata": {},
   "outputs": [
    {
     "data": {
      "text/plain": [
       "'Esayas'"
      ]
     },
     "execution_count": 22,
     "metadata": {},
     "output_type": "execute_result"
    }
   ],
   "source": [
    "name"
   ]
  },
  {
   "cell_type": "code",
   "execution_count": 23,
   "id": "0ccfc82c",
   "metadata": {},
   "outputs": [
    {
     "data": {
      "text/plain": [
       "'Hello Esayas'"
      ]
     },
     "execution_count": 23,
     "metadata": {},
     "output_type": "execute_result"
    }
   ],
   "source": [
    "'Hello %s' % (name)"
   ]
  },
  {
   "cell_type": "code",
   "execution_count": 25,
   "id": "cbcae658",
   "metadata": {},
   "outputs": [
    {
     "data": {
      "text/plain": [
       "'Hello Esayas, Keila'"
      ]
     },
     "execution_count": 25,
     "metadata": {},
     "output_type": "execute_result"
    }
   ],
   "source": [
    "'Hello %s, %s' % (name, 'Keila')"
   ]
  },
  {
   "cell_type": "code",
   "execution_count": 26,
   "id": "3f44ad8f",
   "metadata": {},
   "outputs": [
    {
     "data": {
      "text/plain": [
       "'Hello Esayas, keila, 1'"
      ]
     },
     "execution_count": 26,
     "metadata": {},
     "output_type": "execute_result"
    }
   ],
   "source": [
    "f\"Hello {name}, {'keila'}, {0+1}\""
   ]
  },
  {
   "cell_type": "code",
   "execution_count": 27,
   "id": "d84bd070",
   "metadata": {},
   "outputs": [
    {
     "data": {
      "text/plain": [
       "'HelloEsayas'"
      ]
     },
     "execution_count": 27,
     "metadata": {},
     "output_type": "execute_result"
    }
   ],
   "source": [
    "f\"Hello {name}\""
   ]
  },
  {
   "cell_type": "code",
   "execution_count": null,
   "id": "cd8e711a",
   "metadata": {},
   "outputs": [],
   "source": [
    "String Methonds"
   ]
  },
  {
   "cell_type": "code",
   "execution_count": 28,
   "id": "6e384cbb",
   "metadata": {},
   "outputs": [
    {
     "data": {
      "text/plain": [
       "'hello'"
      ]
     },
     "execution_count": 28,
     "metadata": {},
     "output_type": "execute_result"
    }
   ],
   "source": [
    "'Hello'.lower()"
   ]
  },
  {
   "cell_type": "code",
   "execution_count": 29,
   "id": "26db9faa",
   "metadata": {},
   "outputs": [
    {
     "data": {
      "text/plain": [
       "'hello'"
      ]
     },
     "execution_count": 29,
     "metadata": {},
     "output_type": "execute_result"
    }
   ],
   "source": [
    "str.lower('hello')"
   ]
  },
  {
   "cell_type": "code",
   "execution_count": 30,
   "id": "84222af9",
   "metadata": {},
   "outputs": [
    {
     "data": {
      "text/plain": [
       "'HELLO'"
      ]
     },
     "execution_count": 30,
     "metadata": {},
     "output_type": "execute_result"
    }
   ],
   "source": [
    "'hello'.upper()"
   ]
  },
  {
   "cell_type": "code",
   "execution_count": 31,
   "id": "8217f31e",
   "metadata": {},
   "outputs": [
    {
     "data": {
      "text/plain": [
       "'hello'"
      ]
     },
     "execution_count": 31,
     "metadata": {},
     "output_type": "execute_result"
    }
   ],
   "source": [
    "'hello'.upper().lower()"
   ]
  },
  {
   "cell_type": "code",
   "execution_count": null,
   "id": "b2079db8",
   "metadata": {},
   "outputs": [],
   "source": [
    ".strip() will take away all white space and specified letters\n"
   ]
  },
  {
   "cell_type": "code",
   "execution_count": 33,
   "id": "446e2cfe",
   "metadata": {},
   "outputs": [
    {
     "data": {
      "text/plain": [
       "'Hello'"
      ]
     },
     "execution_count": 33,
     "metadata": {},
     "output_type": "execute_result"
    }
   ],
   "source": [
    "\"    Hello   \".strip()"
   ]
  },
  {
   "cell_type": "code",
   "execution_count": 34,
   "id": "9b5a30cc",
   "metadata": {},
   "outputs": [
    {
     "data": {
      "text/plain": [
       "'He'"
      ]
     },
     "execution_count": 34,
     "metadata": {},
     "output_type": "execute_result"
    }
   ],
   "source": [
    "\"      Hello    \".strip(' lo')"
   ]
  },
  {
   "cell_type": "code",
   "execution_count": null,
   "id": "35eb0dbd",
   "metadata": {},
   "outputs": [],
   "source": [
    ".split() will split items on specified characters or whitespace between them and add a comma"
   ]
  },
  {
   "cell_type": "code",
   "execution_count": null,
   "id": "4a90146d",
   "metadata": {},
   "outputs": [],
   "source": [
    ".join for rejoining items add feature before, for ex. ' '.join(greeting)"
   ]
  },
  {
   "cell_type": "code",
   "execution_count": null,
   "id": "80ad3a19",
   "metadata": {},
   "outputs": [],
   "source": [
    "my_list[] will allow for referencing a specific number in choice, e.g. my_list[2] will result \n",
    "in the 2nd item in a pre-existing list if you add a : after the number, it will result in giving \n",
    "you everything after. can index numbers so my_list_of_lists = [[1,2,3]], [[4,5,6]] will treat \n",
    "[1,2,3] as 0 place. list(range(1, 11)) will create list of range of numbers inclusive of 1 but not of 11"
   ]
  },
  {
   "cell_type": "code",
   "execution_count": null,
   "id": "3187d7e7",
   "metadata": {},
   "outputs": [],
   "source": [
    ".pop(), -- append() would add specified char, -- len() will return count of items, \n",
    "list_of_random_stuff = [1, 'hello', [1,2,3]], list(map(str, [1,2,3])) -- tuple"
   ]
  },
  {
   "cell_type": "code",
   "execution_count": null,
   "id": "b841d169",
   "metadata": {},
   "outputs": [],
   "source": [
    "Dictionaries "
   ]
  },
  {
   "cell_type": "code",
   "execution_count": null,
   "id": "b448421d",
   "metadata": {},
   "outputs": [],
   "source": []
  },
  {
   "cell_type": "code",
   "execution_count": null,
   "id": "02317b65",
   "metadata": {},
   "outputs": [],
   "source": []
  },
  {
   "cell_type": "code",
   "execution_count": null,
   "id": "0b043fd5",
   "metadata": {},
   "outputs": [],
   "source": []
  },
  {
   "cell_type": "code",
   "execution_count": null,
   "id": "e380bd77",
   "metadata": {},
   "outputs": [],
   "source": []
  }
 ],
 "metadata": {
  "kernelspec": {
   "display_name": "Python 3 (ipykernel)",
   "language": "python",
   "name": "python3"
  },
  "language_info": {
   "codemirror_mode": {
    "name": "ipython",
    "version": 3
   },
   "file_extension": ".py",
   "mimetype": "text/x-python",
   "name": "python",
   "nbconvert_exporter": "python",
   "pygments_lexer": "ipython3",
   "version": "3.9.13"
  }
 },
 "nbformat": 4,
 "nbformat_minor": 5
}
