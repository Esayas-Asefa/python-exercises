{
 "cells": [
  {
   "cell_type": "code",
   "execution_count": null,
   "id": "33b0b5af",
   "metadata": {},
   "outputs": [],
   "source": [
    "#1a"
   ]
  },
  {
   "cell_type": "code",
   "execution_count": null,
   "id": "f53f0970",
   "metadata": {
    "scrolled": false
   },
   "outputs": [],
   "source": [
    "day = input(\"Please submit a day of the week:\")"
   ]
  },
  {
   "cell_type": "code",
   "execution_count": 132,
   "id": "dd7f41e6",
   "metadata": {},
   "outputs": [
    {
     "name": "stdout",
     "output_type": "stream",
     "text": [
      "Please submit a day of the week:Wednesday\n",
      "wednesday\n",
      "not monday\n"
     ]
    }
   ],
   "source": [
    "day = input(\"Please submit a day of the week:\")\n",
    "day = day.lower()\n",
    "print(day)\n",
    "if day == \"Monday\":\n",
    "    print('Monday')\n",
    "else:\n",
    "    print('not monday')"
   ]
  },
  {
   "cell_type": "code",
   "execution_count": 17,
   "id": "1ed4f524",
   "metadata": {},
   "outputs": [],
   "source": [
    "#1b"
   ]
  },
  {
   "cell_type": "code",
   "execution_count": 133,
   "id": "d223bf5c",
   "metadata": {},
   "outputs": [
    {
     "name": "stdout",
     "output_type": "stream",
     "text": [
      "Please submit a day of the week:Saturday\n",
      "saturday\n",
      "Weekend\n"
     ]
    }
   ],
   "source": [
    "day = input(\"Please submit a day of the week:\")\n",
    "day = day.lower()\n",
    "print(day)\n",
    "if day ==  'Monday' 'Tuesday' 'Wednesday' 'Thursday' 'Friday':\n",
    "    print('Weekday')\n",
    "else:\n",
    "    print('Weekend')"
   ]
  },
  {
   "cell_type": "code",
   "execution_count": null,
   "id": "344dcdeb",
   "metadata": {},
   "outputs": [],
   "source": [
    "#1c"
   ]
  },
  {
   "cell_type": "code",
   "execution_count": 136,
   "id": "112a7973",
   "metadata": {},
   "outputs": [],
   "source": [
    "def weeklypaid(hours_worked, wage):\n",
    "    wage = 10\n",
    "    hours_worked = 40\n"
   ]
  },
  {
   "cell_type": "code",
   "execution_count": 138,
   "id": "ea98e335",
   "metadata": {},
   "outputs": [
    {
     "ename": "SyntaxError",
     "evalue": "invalid syntax (863675419.py, line 2)",
     "output_type": "error",
     "traceback": [
      "\u001b[0;36m  Input \u001b[0;32mIn [138]\u001b[0;36m\u001b[0m\n\u001b[0;31m    return total_pay = (wage*40)+((1.5*hwage)+(hours_worked-40)\u001b[0m\n\u001b[0m                     ^\u001b[0m\n\u001b[0;31mSyntaxError\u001b[0m\u001b[0;31m:\u001b[0m invalid syntax\n"
     ]
    }
   ],
   "source": [
    "if hours_worked>40:\n",
    "    return total_pay = (wage*40)+((1.5*hwage)+(hours_worked-40)\n",
    "else:\n",
    "    return total_pay = wage*hours_worked"
   ]
  },
  {
   "cell_type": "code",
   "execution_count": null,
   "id": "bb20b374",
   "metadata": {},
   "outputs": [],
   "source": [
    "#2a"
   ]
  },
  {
   "cell_type": "code",
   "execution_count": null,
   "id": "823da346",
   "metadata": {},
   "outputs": [],
   "source": [
    "int(i) = 5"
   ]
  },
  {
   "cell_type": "code",
   "execution_count": 32,
   "id": "f5d4bb5a",
   "metadata": {},
   "outputs": [],
   "source": [
    "i = 5"
   ]
  },
  {
   "cell_type": "code",
   "execution_count": 33,
   "id": "cd4920ed",
   "metadata": {},
   "outputs": [
    {
     "name": "stdout",
     "output_type": "stream",
     "text": [
      "5\n",
      "6\n",
      "7\n",
      "8\n",
      "9\n",
      "10\n",
      "11\n",
      "12\n",
      "13\n",
      "14\n",
      "15\n"
     ]
    }
   ],
   "source": [
    "while i <= 15:\n",
    "    print(i)\n",
    "    i = i + 1 # same as i += 1"
   ]
  },
  {
   "cell_type": "code",
   "execution_count": null,
   "id": "e5e0f98b",
   "metadata": {},
   "outputs": [],
   "source": [
    "int(i) = 0"
   ]
  },
  {
   "cell_type": "code",
   "execution_count": 141,
   "id": "0f34cce6",
   "metadata": {},
   "outputs": [],
   "source": [
    "i = 0"
   ]
  },
  {
   "cell_type": "code",
   "execution_count": 142,
   "id": "03151ce1",
   "metadata": {},
   "outputs": [
    {
     "name": "stdout",
     "output_type": "stream",
     "text": [
      "0\n",
      "2\n",
      "4\n",
      "6\n",
      "8\n",
      "10\n",
      "12\n",
      "14\n",
      "16\n",
      "18\n",
      "20\n",
      "22\n",
      "24\n",
      "26\n",
      "28\n",
      "30\n",
      "32\n",
      "34\n",
      "36\n",
      "38\n",
      "40\n",
      "42\n",
      "44\n",
      "46\n",
      "48\n",
      "50\n",
      "52\n",
      "54\n",
      "56\n",
      "58\n",
      "60\n",
      "62\n",
      "64\n",
      "66\n",
      "68\n",
      "70\n",
      "72\n",
      "74\n",
      "76\n",
      "78\n",
      "80\n",
      "82\n",
      "84\n",
      "86\n",
      "88\n",
      "90\n",
      "92\n",
      "94\n",
      "96\n",
      "98\n",
      "100\n"
     ]
    }
   ],
   "source": [
    "while i <= 100:\n",
    "    print(i)\n",
    "    i = i+2"
   ]
  },
  {
   "cell_type": "code",
   "execution_count": 24,
   "id": "ec23143d",
   "metadata": {},
   "outputs": [],
   "source": [
    "i = 2"
   ]
  },
  {
   "cell_type": "code",
   "execution_count": 149,
   "id": "665dca09",
   "metadata": {
    "scrolled": false
   },
   "outputs": [],
   "source": [
    "while i <= 1000000:\n",
    "    print(i)\n",
    "    i **= 2"
   ]
  },
  {
   "cell_type": "code",
   "execution_count": null,
   "id": "9f1653f5",
   "metadata": {},
   "outputs": [],
   "source": [
    "i = 5"
   ]
  },
  {
   "cell_type": "code",
   "execution_count": 150,
   "id": "f588b94a",
   "metadata": {
    "scrolled": true
   },
   "outputs": [],
   "source": [
    "while i <= 100:\n",
    "    print(i)\n",
    "    i = i+5"
   ]
  },
  {
   "cell_type": "code",
   "execution_count": null,
   "id": "268ab2cf",
   "metadata": {},
   "outputs": [],
   "source": [
    "#2b"
   ]
  },
  {
   "cell_type": "code",
   "execution_count": null,
   "id": "0081d9c9",
   "metadata": {},
   "outputs": [],
   "source": [
    "numb = input(\"please submit an integer here\")"
   ]
  },
  {
   "cell_type": "code",
   "execution_count": 152,
   "id": "8f815bda",
   "metadata": {},
   "outputs": [
    {
     "name": "stdout",
     "output_type": "stream",
     "text": [
      "please submit an integer here7\n",
      "1 x = 7\n",
      "2 x = 77\n",
      "3 x = 777\n",
      "4 x = 7777\n",
      "5 x = 77777\n",
      "6 x = 777777\n",
      "7 x = 7777777\n",
      "8 x = 77777777\n",
      "9 x = 777777777\n",
      "10 x = 7777777777\n"
     ]
    }
   ],
   "source": [
    "numb = input(\"please submit an integer here\")\n",
    "\n",
    "for i in range(1,11):\n",
    "    print(i, 'x', '=', i*numb)"
   ]
  },
  {
   "cell_type": "code",
   "execution_count": null,
   "id": "a8805a8c",
   "metadata": {},
   "outputs": [],
   "source": [
    "#2b"
   ]
  },
  {
   "cell_type": "code",
   "execution_count": 65,
   "id": "c20827c5",
   "metadata": {},
   "outputs": [
    {
     "name": "stdout",
     "output_type": "stream",
     "text": [
      "Enter number of rows:9\n"
     ]
    }
   ],
   "source": [
    "n = int(input(\"Enter number of rows:\"))"
   ]
  },
  {
   "cell_type": "code",
   "execution_count": 155,
   "id": "b5f064ff",
   "metadata": {
    "scrolled": false
   },
   "outputs": [],
   "source": [
    "for i in range(1,n+1):\n",
    "    for j in range(1, i+1):\n",
    "        print(i, end=\"\")\n",
    "    print()"
   ]
  },
  {
   "cell_type": "code",
   "execution_count": 156,
   "id": "2563170f",
   "metadata": {
    "scrolled": false
   },
   "outputs": [
    {
     "name": "stdout",
     "output_type": "stream",
     "text": [
      "enter a positive integer:10\n",
      "10\n",
      "9\n",
      "8\n",
      "7\n",
      "6\n",
      "5\n",
      "4\n",
      "3\n",
      "2\n",
      "1\n"
     ]
    }
   ],
   "source": [
    "#2c\n",
    "numb = int(input(\"enter a positive integer:\"))\n",
    "for i in range(numb,0,-1):\n",
    "    print(i)"
   ]
  },
  {
   "cell_type": "code",
   "execution_count": null,
   "id": "f8db23de",
   "metadata": {
    "scrolled": false
   },
   "outputs": [],
   "source": [
    "#2ci\n",
    "\n",
    "n = int(input(\"Submit positive integer:\"))"
   ]
  },
  {
   "cell_type": "code",
   "execution_count": null,
   "id": "7e39e7cd",
   "metadata": {},
   "outputs": [],
   "source": []
  },
  {
   "cell_type": "code",
   "execution_count": null,
   "id": "2372a803",
   "metadata": {},
   "outputs": [],
   "source": [
    "#2ciii"
   ]
  },
  {
   "cell_type": "code",
   "execution_count": null,
   "id": "731152a3",
   "metadata": {},
   "outputs": [],
   "source": []
  },
  {
   "cell_type": "code",
   "execution_count": null,
   "id": "b858fab9",
   "metadata": {},
   "outputs": [],
   "source": [
    "#3"
   ]
  },
  {
   "cell_type": "code",
   "execution_count": 160,
   "id": "aea2bac1",
   "metadata": {},
   "outputs": [
    {
     "name": "stdout",
     "output_type": "stream",
     "text": [
      "1\n",
      "2\n",
      "Fizz\n",
      "4\n",
      "Buzz\n",
      "Fizz\n",
      "7\n",
      "8\n",
      "Fizz\n",
      "Buzz\n",
      "11\n",
      "Fizz\n",
      "13\n",
      "14\n",
      "Fizz\n",
      "16\n",
      "17\n",
      "Fizz\n",
      "19\n",
      "Buzz\n",
      "Fizz\n",
      "22\n",
      "23\n",
      "Fizz\n",
      "Buzz\n",
      "26\n",
      "Fizz\n",
      "28\n",
      "29\n",
      "Fizz\n",
      "31\n",
      "32\n",
      "Fizz\n",
      "34\n",
      "Buzz\n",
      "Fizz\n",
      "37\n",
      "38\n",
      "Fizz\n",
      "Buzz\n",
      "41\n",
      "Fizz\n",
      "43\n",
      "44\n",
      "Fizz\n",
      "46\n",
      "47\n",
      "Fizz\n",
      "49\n",
      "Buzz\n",
      "Fizz\n",
      "52\n",
      "53\n",
      "Fizz\n",
      "Buzz\n",
      "56\n",
      "Fizz\n",
      "58\n",
      "59\n",
      "Fizz\n",
      "61\n",
      "62\n",
      "Fizz\n",
      "64\n",
      "Buzz\n",
      "Fizz\n",
      "67\n",
      "68\n",
      "Fizz\n",
      "Buzz\n",
      "71\n",
      "Fizz\n",
      "73\n",
      "74\n",
      "Fizz\n",
      "76\n",
      "77\n",
      "Fizz\n",
      "79\n",
      "Buzz\n",
      "Fizz\n",
      "82\n",
      "83\n",
      "Fizz\n",
      "Buzz\n",
      "86\n",
      "Fizz\n",
      "88\n",
      "89\n",
      "Fizz\n",
      "91\n",
      "92\n",
      "Fizz\n",
      "94\n",
      "Buzz\n",
      "Fizz\n",
      "97\n",
      "98\n",
      "Fizz\n",
      "Buzz\n"
     ]
    }
   ],
   "source": [
    "for i in range(1,101):\n",
    "    if i % 3 == 0:\n",
    "        print('Fizz')\n",
    "        continue\n",
    "    if i % 5 == 0:\n",
    "        print('Buzz')\n",
    "        continue\n",
    "    if i % 15 == 0:\n",
    "        print('Fizzbuzz')\n",
    "        continue\n",
    "    print(i)"
   ]
  },
  {
   "cell_type": "code",
   "execution_count": null,
   "id": "76d462e2",
   "metadata": {},
   "outputs": [],
   "source": []
  },
  {
   "cell_type": "code",
   "execution_count": null,
   "id": "509c8ae8",
   "metadata": {},
   "outputs": [],
   "source": [
    "#4"
   ]
  },
  {
   "cell_type": "code",
   "execution_count": null,
   "id": "cd0135f4",
   "metadata": {},
   "outputs": [],
   "source": [
    "numb = int(input('enter a positive integer: '))"
   ]
  },
  {
   "cell_type": "code",
   "execution_count": null,
   "id": "2d26e447",
   "metadata": {},
   "outputs": [],
   "source": [
    "for i in range(1,numb+1):\n",
    "    print(i, i**2, i**3)\n",
    "    \n",
    "cont = input('enter i')"
   ]
  },
  {
   "cell_type": "code",
   "execution_count": null,
   "id": "1a221b7a",
   "metadata": {},
   "outputs": [],
   "source": []
  },
  {
   "cell_type": "code",
   "execution_count": null,
   "id": "1854c086",
   "metadata": {},
   "outputs": [],
   "source": []
  },
  {
   "cell_type": "code",
   "execution_count": null,
   "id": "b54de3af",
   "metadata": {},
   "outputs": [],
   "source": [
    "#5 \n",
    "# create \"while True:\"\n",
    "# created a prompt first and tested\n",
    "# use if/elif statement\n",
    "# add \"would you like to continue prompt\""
   ]
  },
  {
   "cell_type": "code",
   "execution_count": null,
   "id": "84db9843",
   "metadata": {},
   "outputs": [],
   "source": []
  },
  {
   "cell_type": "code",
   "execution_count": null,
   "id": "92f2e82a",
   "metadata": {},
   "outputs": [],
   "source": [
    "#6\n",
    "# create a dictionary, books = [{x1: 1, x2:2, etc},{x, x etc}, {xxx}]\n",
    "#create prompt\n",
    "#"
   ]
  }
 ],
 "metadata": {
  "kernelspec": {
   "display_name": "Python 3 (ipykernel)",
   "language": "python",
   "name": "python3"
  },
  "language_info": {
   "codemirror_mode": {
    "name": "ipython",
    "version": 3
   },
   "file_extension": ".py",
   "mimetype": "text/x-python",
   "name": "python",
   "nbconvert_exporter": "python",
   "pygments_lexer": "ipython3",
   "version": "3.9.13"
  }
 },
 "nbformat": 4,
 "nbformat_minor": 5
}
