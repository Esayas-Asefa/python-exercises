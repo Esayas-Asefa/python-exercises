{
 "cells": [
  {
   "cell_type": "code",
   "execution_count": null,
   "id": "b7608a7b",
   "metadata": {},
   "outputs": [],
   "source": [
    "#Define a function named is_two. It should accept one input and return True if the passed input \n",
    "    #is either the number or the string 2, False otherwise."
   ]
  },
  {
   "cell_type": "code",
   "execution_count": 6,
   "id": "edf9b978",
   "metadata": {},
   "outputs": [],
   "source": [
    "def is_two(x):\n",
    "    if x == '2':\n",
    "        print(True)\n",
    "    elif x == 'two':\n",
    "        print(True)\n",
    "    elif x == 2:\n",
    "        print(True)\n",
    "    else:\n",
    "        print(False)\n",
    "    "
   ]
  },
  {
   "cell_type": "code",
   "execution_count": 8,
   "id": "82c52a67",
   "metadata": {},
   "outputs": [
    {
     "name": "stdout",
     "output_type": "stream",
     "text": [
      "False\n"
     ]
    }
   ],
   "source": [
    "is_two(3)"
   ]
  },
  {
   "cell_type": "code",
   "execution_count": 9,
   "id": "09ea7dd3",
   "metadata": {},
   "outputs": [],
   "source": [
    "#Define a function named is_vowel. It should return True if the passed string is a vowel, False otherwise."
   ]
  },
  {
   "cell_type": "code",
   "execution_count": 10,
   "id": "2483b05a",
   "metadata": {},
   "outputs": [],
   "source": [
    "def is_vowel(x):\n",
    "    if x == 'aeiou':\n",
    "        print(True)\n",
    "    else:\n",
    "        print(False)"
   ]
  },
  {
   "cell_type": "code",
   "execution_count": 12,
   "id": "0dec2521",
   "metadata": {},
   "outputs": [
    {
     "name": "stdout",
     "output_type": "stream",
     "text": [
      "False\n"
     ]
    }
   ],
   "source": [
    "is_vowel('b')"
   ]
  },
  {
   "cell_type": "code",
   "execution_count": null,
   "id": "59435dd7",
   "metadata": {},
   "outputs": [],
   "source": [
    "#Define a function named is_consonant. It should return True if the passed string is a consonant, \n",
    "    #False otherwise. Use your is_vowel function to accomplish this."
   ]
  },
  {
   "cell_type": "code",
   "execution_count": 27,
   "id": "e45f16d2",
   "metadata": {},
   "outputs": [],
   "source": [
    "def is_consonant(x):\n",
    "    if x == 'BCDFGHJKLMNPQRSTVWXbcdfghjklmnpqrstvwx':\n",
    "        print(True)\n",
    "    else:\n",
    "        print(False)"
   ]
  },
  {
   "cell_type": "code",
   "execution_count": 29,
   "id": "9e4e389f",
   "metadata": {
    "scrolled": true
   },
   "outputs": [
    {
     "name": "stdout",
     "output_type": "stream",
     "text": [
      "False\n"
     ]
    }
   ],
   "source": [
    "is_consonant('a')"
   ]
  },
  {
   "cell_type": "code",
   "execution_count": null,
   "id": "dbe66a38",
   "metadata": {},
   "outputs": [],
   "source": [
    "#Define a function that accepts a string that is a word. The function should capitalize the first letter \n",
    "    #of the word if the word starts with a consonant."
   ]
  },
  {
   "cell_type": "code",
   "execution_count": 57,
   "id": "35b846a6",
   "metadata": {},
   "outputs": [],
   "source": [
    "def first_letter(x):\n",
    "    if x == str:\n",
    "        print(upper.str[0])"
   ]
  },
  {
   "cell_type": "code",
   "execution_count": 59,
   "id": "a656232e",
   "metadata": {},
   "outputs": [],
   "source": [
    "first_letter('paper')"
   ]
  },
  {
   "cell_type": "code",
   "execution_count": null,
   "id": "40bcb805",
   "metadata": {},
   "outputs": [],
   "source": [
    "#Define a function named calculate_tip. It should accept a tip percentage (a number between 0 and 1)\n",
    "    #and the bill total, and return the amount to tip."
   ]
  },
  {
   "cell_type": "code",
   "execution_count": 65,
   "id": "734a3c3e",
   "metadata": {},
   "outputs": [],
   "source": [
    "original_price = float\n",
    "tip_percentage = float\n",
    "def calculate_tip(x):\n",
    "    if x > 0:\n",
    "        return(((x*.08) + x)*.15)"
   ]
  },
  {
   "cell_type": "code",
   "execution_count": 68,
   "id": "78d1731d",
   "metadata": {},
   "outputs": [
    {
     "data": {
      "text/plain": [
       "4.05"
      ]
     },
     "execution_count": 68,
     "metadata": {},
     "output_type": "execute_result"
    }
   ],
   "source": [
    "calculate_tip(25)"
   ]
  },
  {
   "cell_type": "code",
   "execution_count": null,
   "id": "0921798a",
   "metadata": {},
   "outputs": [],
   "source": [
    "#Define a function named apply_discount. It should accept a original price, and a discount percentage, \n",
    "    #and return the price after the discount is applied."
   ]
  },
  {
   "cell_type": "code",
   "execution_count": 106,
   "id": "0d7a40b2",
   "metadata": {},
   "outputs": [],
   "source": [
    "x1 = int\n",
    "x2 = float\n",
    "def apply_discount(x):\n",
    "    if x1 > 0:\n",
    "        return(x1*x2)"
   ]
  },
  {
   "cell_type": "code",
   "execution_count": null,
   "id": "4b2d03e9",
   "metadata": {},
   "outputs": [],
   "source": [
    "#Define a function named handle_commas. It should accept a string that is a number that contains commas \n",
    "    #in it as input, and return a number as output."
   ]
  },
  {
   "cell_type": "code",
   "execution_count": 133,
   "id": "8185bc10",
   "metadata": {},
   "outputs": [],
   "source": [
    "def handle_commas(x):\n",
    "    if x == str(x):\n",
    "        return((x).replace(',',''))"
   ]
  },
  {
   "cell_type": "code",
   "execution_count": 134,
   "id": "9dbf74e3",
   "metadata": {},
   "outputs": [
    {
     "data": {
      "text/plain": [
       "'3000'"
      ]
     },
     "execution_count": 134,
     "metadata": {},
     "output_type": "execute_result"
    }
   ],
   "source": [
    "handle_commas('3,000')"
   ]
  },
  {
   "cell_type": "code",
   "execution_count": null,
   "id": "ad3dddb3",
   "metadata": {},
   "outputs": [],
   "source": [
    "#Define a function named get_letter_grade. It should accept a number and return the letter grade associated \n",
    "#with that number (A-F)."
   ]
  },
  {
   "cell_type": "code",
   "execution_count": 167,
   "id": "7cec4913",
   "metadata": {},
   "outputs": [],
   "source": [
    "def get_letter_grade(x):\n",
    "    if x >= 90:\n",
    "        print('A')\n",
    "    elif x >= 80:\n",
    "        print('B')\n",
    "    elif x >= 70:\n",
    "        print('C')\n",
    "    elif x >= 60:\n",
    "        print('D')\n",
    "    else:\n",
    "        print('F')"
   ]
  },
  {
   "cell_type": "code",
   "execution_count": 168,
   "id": "84daa925",
   "metadata": {
    "scrolled": true
   },
   "outputs": [
    {
     "name": "stdout",
     "output_type": "stream",
     "text": [
      "B\n"
     ]
    }
   ],
   "source": [
    "get_letter_grade(87)"
   ]
  },
  {
   "cell_type": "code",
   "execution_count": null,
   "id": "ce7e996c",
   "metadata": {},
   "outputs": [],
   "source": [
    "#Define a function named remove_vowels that accepts a string and returns a string with all the vowels removed."
   ]
  },
  {
   "cell_type": "code",
   "execution_count": 182,
   "id": "962a6c72",
   "metadata": {},
   "outputs": [],
   "source": [
    "def remove_vowels(x):\n",
    "    if x == str:\n",
    "        print(x.replace('aeiou', ' '))"
   ]
  },
  {
   "cell_type": "code",
   "execution_count": 184,
   "id": "c6b7bd97",
   "metadata": {},
   "outputs": [],
   "source": [
    "remove_vowels('paper')"
   ]
  },
  {
   "cell_type": "code",
   "execution_count": null,
   "id": "82b6291a",
   "metadata": {},
   "outputs": [],
   "source": []
  }
 ],
 "metadata": {
  "kernelspec": {
   "display_name": "Python 3 (ipykernel)",
   "language": "python",
   "name": "python3"
  },
  "language_info": {
   "codemirror_mode": {
    "name": "ipython",
    "version": 3
   },
   "file_extension": ".py",
   "mimetype": "text/x-python",
   "name": "python",
   "nbconvert_exporter": "python",
   "pygments_lexer": "ipython3",
   "version": "3.9.13"
  }
 },
 "nbformat": 4,
 "nbformat_minor": 5
}
