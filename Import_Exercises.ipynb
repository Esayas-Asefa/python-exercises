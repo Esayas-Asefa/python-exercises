{
 "cells": [
  {
   "cell_type": "code",
   "execution_count": 37,
   "id": "aaf60169",
   "metadata": {},
   "outputs": [],
   "source": [
    "import functions_exercises1 as fep"
   ]
  },
  {
   "cell_type": "code",
   "execution_count": 23,
   "id": "d41fefc1",
   "metadata": {
    "scrolled": true
   },
   "outputs": [
    {
     "data": {
      "text/plain": [
       "True"
      ]
     },
     "execution_count": 23,
     "metadata": {},
     "output_type": "execute_result"
    }
   ],
   "source": [
    "fep.is_vowel('a')"
   ]
  },
  {
   "cell_type": "code",
   "execution_count": 70,
   "id": "d92fcfaa",
   "metadata": {},
   "outputs": [],
   "source": [
    "from functions_exercises1 import calculate_tip"
   ]
  },
  {
   "cell_type": "code",
   "execution_count": 71,
   "id": "ccf7f46e",
   "metadata": {},
   "outputs": [
    {
     "data": {
      "text/plain": [
       "120.0"
      ]
     },
     "execution_count": 71,
     "metadata": {},
     "output_type": "execute_result"
    }
   ],
   "source": [
    "calculate_tip(100)"
   ]
  },
  {
   "cell_type": "code",
   "execution_count": 27,
   "id": "0a10abce",
   "metadata": {},
   "outputs": [],
   "source": [
    "from functions_exercises1 import get_letter_grade"
   ]
  },
  {
   "cell_type": "code",
   "execution_count": 28,
   "id": "27ebf17e",
   "metadata": {},
   "outputs": [
    {
     "data": {
      "text/plain": [
       "'B'"
      ]
     },
     "execution_count": 28,
     "metadata": {},
     "output_type": "execute_result"
    }
   ],
   "source": [
    "get_letter_grade(87)"
   ]
  },
  {
   "cell_type": "code",
   "execution_count": null,
   "id": "b7027734",
   "metadata": {},
   "outputs": [],
   "source": [
    "#How many different ways can you combine a single letter from \"abc\" with either 1, 2, or 3?"
   ]
  },
  {
   "cell_type": "code",
   "execution_count": 60,
   "id": "637de2cf",
   "metadata": {},
   "outputs": [],
   "source": [
    "from itertools import permutations"
   ]
  },
  {
   "cell_type": "code",
   "execution_count": 73,
   "id": "a3cace71",
   "metadata": {
    "scrolled": true
   },
   "outputs": [
    {
     "name": "stdout",
     "output_type": "stream",
     "text": [
      "[[(1, 'a'), (2, 'b'), (3, 'c')], [(1, 'a'), (3, 'b'), (2, 'c')], [(2, 'a'), (1, 'b'), (3, 'c')], [(2, 'a'), (3, 'b'), (1, 'c')], [(3, 'a'), (1, 'b'), (2, 'c')], [(3, 'a'), (2, 'b'), (1, 'c')]]\n"
     ]
    }
   ],
   "source": [
    "from itertools import permutations\n",
    "\n",
    "x = [1, 2, 3]\n",
    "y = ['a', 'b', 'c']\n",
    "\n",
    "unique_combinations = []\n",
    "permut = permutations(x, len(y))\n",
    "for comb in permut:\n",
    "    zipped = zip(comb, y)\n",
    "    unique_combinations.append(list(zipped))\n",
    "print(list(unique_combinations))"
   ]
  },
  {
   "cell_type": "code",
   "execution_count": null,
   "id": "4bc969d9",
   "metadata": {},
   "outputs": [],
   "source": [
    "#How many different combinations are there of 2 letters from \"abcd\"?"
   ]
  },
  {
   "cell_type": "code",
   "execution_count": 69,
   "id": "5129fc1c",
   "metadata": {},
   "outputs": [],
   "source": [
    "from itertools import combinations"
   ]
  },
  {
   "cell_type": "code",
   "execution_count": null,
   "id": "44c13a7b",
   "metadata": {},
   "outputs": [],
   "source": [
    "from itertools import combinations\n",
    "\n",
    "x = 'abcd'\n",
    "\n",
    "y = combinations()"
   ]
  }
 ],
 "metadata": {
  "kernelspec": {
   "display_name": "Python 3 (ipykernel)",
   "language": "python",
   "name": "python3"
  },
  "language_info": {
   "codemirror_mode": {
    "name": "ipython",
    "version": 3
   },
   "file_extension": ".py",
   "mimetype": "text/x-python",
   "name": "python",
   "nbconvert_exporter": "python",
   "pygments_lexer": "ipython3",
   "version": "3.9.13"
  }
 },
 "nbformat": 4,
 "nbformat_minor": 5
}
