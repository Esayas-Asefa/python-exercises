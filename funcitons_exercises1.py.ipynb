{
 "cells": [
  {
   "cell_type": "code",
   "execution_count": 1,
   "id": "a41476d5",
   "metadata": {},
   "outputs": [],
   "source": [
    "def is_two(n):\n",
    "    return n == 2 or n == '2'"
   ]
  },
  {
   "cell_type": "code",
   "execution_count": 2,
   "id": "067afc44",
   "metadata": {},
   "outputs": [],
   "source": [
    "def is_vowel(char):\n",
    "    if type(char) == str: \n",
    "        return char.lower() in list('aeiou')\n",
    "    else:\n",
    "        return False"
   ]
  },
  {
   "cell_type": "code",
   "execution_count": 3,
   "id": "e2685f74",
   "metadata": {},
   "outputs": [],
   "source": [
    "def is_consonsant(string):\n",
    "    if type(string) == str:\n",
    "        return not is_vowel(string)\n",
    "    else:\n",
    "        return False"
   ]
  },
  {
   "cell_type": "code",
   "execution_count": 4,
   "id": "28c88797",
   "metadata": {},
   "outputs": [],
   "source": [
    "def capital_cons_start(string):\n",
    "    if is_consonsant(string[0]):\n",
    "        string= string.capitalize()\n",
    "    return string"
   ]
  },
  {
   "cell_type": "code",
   "execution_count": 5,
   "id": "e97f65f5",
   "metadata": {},
   "outputs": [],
   "source": [
    "def calculate_tip(bill_total, tip_perc=.2):\n",
    "    return bill_total * tip_perc + bill_total"
   ]
  },
  {
   "cell_type": "code",
   "execution_count": 6,
   "id": "40c91adc",
   "metadata": {},
   "outputs": [],
   "source": [
    "def apply_discount(og_price, discount_perc):\n",
    "    return og_price - og_price * discount_perc"
   ]
  },
  {
   "cell_type": "code",
   "execution_count": 7,
   "id": "83171506",
   "metadata": {},
   "outputs": [],
   "source": [
    "def handle_commas(number):\n",
    "    number = number.replace(',','')\n",
    "    number = int(number)\n",
    "    return number"
   ]
  },
  {
   "cell_type": "code",
   "execution_count": 8,
   "id": "562b4e87",
   "metadata": {},
   "outputs": [],
   "source": [
    "def get_letter_grade(grade):\n",
    "    if grade >= 90:\n",
    "        letter_grade = 'A'\n",
    "    elif grade >= 80:\n",
    "        letter_grade = 'B'\n",
    "    elif grade >= 70:\n",
    "        letter_grade = 'C'\n",
    "    else:\n",
    "        letter_grade = 'F'\n",
    "    return letter_grade"
   ]
  },
  {
   "cell_type": "code",
   "execution_count": 9,
   "id": "fcd9299a",
   "metadata": {},
   "outputs": [],
   "source": [
    "def remove_vowels(string):\n",
    "    new_string = ''\n",
    "\n",
    "    for char in string:\n",
    "        if not is_vowel(char):\n",
    "            new_string += char\n",
    "\n",
    "    return new_string"
   ]
  },
  {
   "cell_type": "code",
   "execution_count": 10,
   "id": "e3f02d4b",
   "metadata": {},
   "outputs": [],
   "source": [
    "def normalize_name(string):\n",
    "    new_string =''\n",
    "\n",
    "    for char in string:\n",
    "        if char.isdigit() or char.isalpha() or char == ' ':\n",
    "            new_string += char\n",
    "\n",
    "    new_string = new_string.strip().lower().replace(' ','_')\n",
    "    return new_string"
   ]
  },
  {
   "cell_type": "code",
   "execution_count": 11,
   "id": "c099b681",
   "metadata": {},
   "outputs": [],
   "source": [
    "def cumulative_sum(ls_numbs):\n",
    "    total = 0\n",
    "\n",
    "    some_sums = []\n",
    "\n",
    "    for numb in ls_numbs:\n",
    "        total += numb\n",
    "        some_sums.append(total)\n",
    "\n",
    "    return some_sums"
   ]
  },
  {
   "cell_type": "code",
   "execution_count": null,
   "id": "4b1e8f31",
   "metadata": {},
   "outputs": [],
   "source": []
  }
 ],
 "metadata": {
  "kernelspec": {
   "display_name": "Python 3 (ipykernel)",
   "language": "python",
   "name": "python3"
  },
  "language_info": {
   "codemirror_mode": {
    "name": "ipython",
    "version": 3
   },
   "file_extension": ".py",
   "mimetype": "text/x-python",
   "name": "python",
   "nbconvert_exporter": "python",
   "pygments_lexer": "ipython3",
   "version": "3.9.13"
  }
 },
 "nbformat": 4,
 "nbformat_minor": 5
}
