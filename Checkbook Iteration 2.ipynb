{
 "cells": [
  {
   "cell_type": "code",
   "execution_count": 6,
   "id": "413f976a",
   "metadata": {},
   "outputs": [
    {
     "name": "stdout",
     "output_type": "stream",
     "text": [
      " 1. View Current Balance\n",
      " 2. Withdrawal\n",
      " 3. Deposit\n",
      " 4. Exit\n",
      "select any option3\n",
      "Enter Amount to Deposit:5\n"
     ]
    },
    {
     "ename": "UnboundLocalError",
     "evalue": "local variable 'bal' referenced before assignment",
     "output_type": "error",
     "traceback": [
      "\u001b[0;31m---------------------------------------------------------------------------\u001b[0m",
      "\u001b[0;31mUnboundLocalError\u001b[0m                         Traceback (most recent call last)",
      "Input \u001b[0;32mIn [6]\u001b[0m, in \u001b[0;36m<cell line: 15>\u001b[0;34m()\u001b[0m\n\u001b[1;32m     20\u001b[0m \u001b[38;5;28;01melif\u001b[39;00m ch \u001b[38;5;241m==\u001b[39m \u001b[38;5;241m3\u001b[39m:\n\u001b[1;32m     21\u001b[0m     amnt \u001b[38;5;241m=\u001b[39m \u001b[38;5;28mint\u001b[39m(\u001b[38;5;28minput\u001b[39m(\u001b[38;5;124m\"\u001b[39m\u001b[38;5;124mEnter Amount to Deposit:\u001b[39m\u001b[38;5;124m\"\u001b[39m))\n\u001b[0;32m---> 22\u001b[0m     \u001b[43mdeposit\u001b[49m\u001b[43m(\u001b[49m\u001b[43mamnt\u001b[49m\u001b[43m)\u001b[49m\n\u001b[1;32m     23\u001b[0m     bal \u001b[38;5;241m=\u001b[39m \u001b[38;5;28mint\u001b[39m(\u001b[38;5;28minput\u001b[39m(\u001b[38;5;124m\"\u001b[39m\u001b[38;5;124mEnter Current Balance\u001b[39m\u001b[38;5;124m\"\u001b[39m))\n\u001b[1;32m     24\u001b[0m \u001b[38;5;28;01melse\u001b[39;00m:\n",
      "Input \u001b[0;32mIn [6]\u001b[0m, in \u001b[0;36mdeposit\u001b[0;34m(amnt)\u001b[0m\n\u001b[1;32m      4\u001b[0m \u001b[38;5;28;01mdef\u001b[39;00m \u001b[38;5;21mdeposit\u001b[39m(amnt):\n\u001b[0;32m----> 5\u001b[0m     bal \u001b[38;5;241m=\u001b[39m \u001b[43mbal\u001b[49m \u001b[38;5;241m+\u001b[39m amnt\n",
      "\u001b[0;31mUnboundLocalError\u001b[0m: local variable 'bal' referenced before assignment"
     ]
    }
   ],
   "source": [
    "import json\n",
    "bal = 0\n",
    "amt = 0\n",
    "def deposit(amnt):\n",
    "    bal = bal + amnt\n",
    "def chckbalance(balance):\n",
    "    bal = balance\n",
    "    print(\"Current Balance:\",bal)\n",
    "def withdrawal(amnt):\n",
    "    bal = bal - amnt\n",
    "    chckbalance()\n",
    "\n",
    "print(\" 1. View Current Balance\\n 2. Withdrawal\\n 3. Deposit\\n 4. Exit\")\n",
    "ch = int(input(\"select any option\"))\n",
    "if ch == 1:\n",
    "    chckbalance()\n",
    "elif ch == 2:\n",
    "    amnt = int(input(\"Enter Amount to Withdrawal:\"))\n",
    "    withdrawal(amnt)\n",
    "elif ch == 3:\n",
    "    amnt = int(input(\"Enter Amount to Deposit:\"))\n",
    "    deposit(amnt)\n",
    "    bal = int(input(\"Enter Current Balance\"))\n",
    "else:\n",
    "    print(\"Please select any 4 options available above.\")"
   ]
  },
  {
   "cell_type": "code",
   "execution_count": null,
   "id": "b3b7e0ea",
   "metadata": {},
   "outputs": [],
   "source": []
  }
 ],
 "metadata": {
  "kernelspec": {
   "display_name": "Python 3 (ipykernel)",
   "language": "python",
   "name": "python3"
  },
  "language_info": {
   "codemirror_mode": {
    "name": "ipython",
    "version": 3
   },
   "file_extension": ".py",
   "mimetype": "text/x-python",
   "name": "python",
   "nbconvert_exporter": "python",
   "pygments_lexer": "ipython3",
   "version": "3.9.13"
  }
 },
 "nbformat": 4,
 "nbformat_minor": 5
}
