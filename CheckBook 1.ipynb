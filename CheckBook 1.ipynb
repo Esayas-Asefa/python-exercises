{
 "cells": [
  {
   "cell_type": "code",
   "execution_count": null,
   "id": "df8f044b",
   "metadata": {},
   "outputs": [],
   "source": [
    "def deposit(deposit_amount, balance):\n",
    "   balance += deposit_amount\n",
    "   return balance;\n",
    "def process_check(check_amount, balance):\n",
    "   balance -= check_amount\n",
    "   return balance;\n",
    "balance = float(input(\"Enter the initial balance: \"))\n",
    "transaction = input(\"Choose transaction method - 1 to deposit, C to process check, Q to quit: \")\n",
    "while transaction != 'Q':\n",
    "   if transaction == '1':\n",
    "       deposit_amount = float(input(\"Enter amount to be deposited: \"))\n",
    "       balance = deposit(deposit_amount, balance)\n",
    "       print(\"Current balance is: \" + str(balance))\n",
    "   elif transaction == 'C':\n",
    "       check_amount = float(input(\"Enter amount to process check: \"))\n",
    "       if balance >= check_amount:\n",
    "           balance = process_check(check_amount, balance)\n",
    "           print(\"Current balance is: \" + str(balance))\n",
    "       else:\n",
    "           print(\"Not enough money!\")\n",
    "   else:\n",
    "       print(\"Invalid input!\")\n",
    "   transaction = input(\"Choose transaction method - 1 to deposit, C to process the check, Q to quit: \")\n",
    "print(\"Your final balance is: \" + str(balance))"
   ]
  },
  {
   "cell_type": "code",
   "execution_count": null,
   "id": "3553b738",
   "metadata": {},
   "outputs": [],
   "source": []
  }
 ],
 "metadata": {
  "kernelspec": {
   "display_name": "Python 3 (ipykernel)",
   "language": "python",
   "name": "python3"
  },
  "language_info": {
   "codemirror_mode": {
    "name": "ipython",
    "version": 3
   },
   "file_extension": ".py",
   "mimetype": "text/x-python",
   "name": "python",
   "nbconvert_exporter": "python",
   "pygments_lexer": "ipython3",
   "version": "3.9.13"
  }
 },
 "nbformat": 4,
 "nbformat_minor": 5
}
