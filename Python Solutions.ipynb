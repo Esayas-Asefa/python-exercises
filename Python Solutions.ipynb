{
 "cells": [
  {
   "cell_type": "code",
   "execution_count": null,
   "id": "69280d81",
   "metadata": {},
   "outputs": [],
   "source": [
    "#5 \n",
    "price_rate = 3\n",
    "little_mer = 3\n",
    "bro_bear =5\n",
    "herc = 1"
   ]
  },
  {
   "cell_type": "code",
   "execution_count": null,
   "id": "e62b3bee",
   "metadata": {},
   "outputs": [],
   "source": [
    "total_rate = ((little_mer + herc + bro_bear) * price_rate)\n"
   ]
  },
  {
   "cell_type": "code",
   "execution_count": 2,
   "id": "81685255",
   "metadata": {},
   "outputs": [
    {
     "ename": "NameError",
     "evalue": "name 'total_rate' is not defined",
     "output_type": "error",
     "traceback": [
      "\u001b[0;31m---------------------------------------------------------------------------\u001b[0m",
      "\u001b[0;31mNameError\u001b[0m                                 Traceback (most recent call last)",
      "Input \u001b[0;32mIn [2]\u001b[0m, in \u001b[0;36m<cell line: 1>\u001b[0;34m()\u001b[0m\n\u001b[0;32m----> 1\u001b[0m \u001b[43mtotal_rate\u001b[49m\n",
      "\u001b[0;31mNameError\u001b[0m: name 'total_rate' is not defined"
     ]
    }
   ],
   "source": [
    "total_rate"
   ]
  },
  {
   "cell_type": "code",
   "execution_count": 6,
   "id": "50b0cc6f",
   "metadata": {},
   "outputs": [],
   "source": [
    "g_rate = 400\n",
    "am_rate = 380\n",
    "fb_rate = 350\n",
    "g_hours = 6\n",
    "am_hours = 4\n",
    "fb_hour = 10"
   ]
  },
  {
   "cell_type": "code",
   "execution_count": 5,
   "id": "d72042de",
   "metadata": {},
   "outputs": [
    {
     "ename": "NameError",
     "evalue": "name 'fb_hours' is not defined",
     "output_type": "error",
     "traceback": [
      "\u001b[0;31m---------------------------------------------------------------------------\u001b[0m",
      "\u001b[0;31mNameError\u001b[0m                                 Traceback (most recent call last)",
      "Input \u001b[0;32mIn [5]\u001b[0m, in \u001b[0;36m<cell line: 1>\u001b[0;34m()\u001b[0m\n\u001b[0;32m----> 1\u001b[0m paycheck \u001b[38;5;241m=\u001b[39m (g_rate \u001b[38;5;241m*\u001b[39m g_hours) \u001b[38;5;241m+\u001b[39m (am_rate \u001b[38;5;241m*\u001b[39mam_hours) \u001b[38;5;241m+\u001b[39m (fb_rate \u001b[38;5;241m*\u001b[39m \u001b[43mfb_hours\u001b[49m)\n",
      "\u001b[0;31mNameError\u001b[0m: name 'fb_hours' is not defined"
     ]
    }
   ],
   "source": [
    "paycheck = (g_rate * g_hours) + (am_rate *am_hours) + (fb_rate * fb_hours)"
   ]
  },
  {
   "cell_type": "code",
   "execution_count": 7,
   "id": "d9a93143",
   "metadata": {},
   "outputs": [
    {
     "data": {
      "text/plain": [
       "True"
      ]
     },
     "execution_count": 7,
     "metadata": {},
     "output_type": "execute_result"
    }
   ],
   "source": [
    "class_is_not_full = True\n",
    "schedule_does_not_conflict = True\n",
    "enroll = class_is_not_full and schedule_does_not_conflict\n",
    "enroll"
   ]
  },
  {
   "cell_type": "code",
   "execution_count": 8,
   "id": "fae8223f",
   "metadata": {},
   "outputs": [],
   "source": [
    "premium_member = True\n",
    "more_than_two_items = True\n",
    "coupon_not_expired = True"
   ]
  },
  {
   "cell_type": "code",
   "execution_count": 9,
   "id": "0cefbdaf",
   "metadata": {},
   "outputs": [
    {
     "data": {
      "text/plain": [
       "True"
      ]
     },
     "execution_count": 9,
     "metadata": {},
     "output_type": "execute_result"
    }
   ],
   "source": [
    "coupon_not_expired and (more_than_two_items or premium_member)"
   ]
  },
  {
   "cell_type": "code",
   "execution_count": 11,
   "id": "b7d08452",
   "metadata": {},
   "outputs": [],
   "source": [
    "List out requirements for password\n",
    "\n",
    "my_username = 'Andrew'\n",
    "my_password = 'Mistyrocks!'"
   ]
  },
  {
   "cell_type": "code",
   "execution_count": null,
   "id": "493f1789",
   "metadata": {},
   "outputs": [],
   "source": []
  },
  {
   "cell_type": "code",
   "execution_count": null,
   "id": "3cb7ccee",
   "metadata": {},
   "outputs": [],
   "source": []
  },
  {
   "cell_type": "code",
   "execution_count": null,
   "id": "eb07f2b4",
   "metadata": {},
   "outputs": [],
   "source": []
  },
  {
   "cell_type": "code",
   "execution_count": null,
   "id": "b868f1bc",
   "metadata": {},
   "outputs": [],
   "source": []
  }
 ],
 "metadata": {
  "kernelspec": {
   "display_name": "Python 3 (ipykernel)",
   "language": "python",
   "name": "python3"
  },
  "language_info": {
   "codemirror_mode": {
    "name": "ipython",
    "version": 3
   },
   "file_extension": ".py",
   "mimetype": "text/x-python",
   "name": "python",
   "nbconvert_exporter": "python",
   "pygments_lexer": "ipython3",
   "version": "3.9.13"
  }
 },
 "nbformat": 4,
 "nbformat_minor": 5
}
