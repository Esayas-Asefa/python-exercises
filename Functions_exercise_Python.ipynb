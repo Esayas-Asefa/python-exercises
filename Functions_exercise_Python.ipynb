{
 "cells": [
  {
   "cell_type": "code",
   "execution_count": null,
   "id": "04b84f28",
   "metadata": {},
   "outputs": [],
   "source": [
    "#Define a function named is_two. It should accept one input and return True if the passed input \n",
    "    #is either the number or the string 2, False otherwise."
   ]
  },
  {
   "cell_type": "code",
   "execution_count": 76,
   "id": "cba1daba",
   "metadata": {},
   "outputs": [
    {
     "data": {
      "text/plain": [
       "2"
      ]
     },
     "execution_count": 76,
     "metadata": {},
     "output_type": "execute_result"
    }
   ],
   "source": [
    "def is_two(x):\n",
    "    if x == 2:\n",
    "        return True\n",
    "    elif x == 'two':\n",
    "        return True\n",
    "    else:\n",
    "        return False\n",
    "2"
   ]
  },
  {
   "cell_type": "code",
   "execution_count": 74,
   "id": "87393b7d",
   "metadata": {},
   "outputs": [
    {
     "data": {
      "text/plain": [
       "2"
      ]
     },
     "execution_count": 74,
     "metadata": {},
     "output_type": "execute_result"
    }
   ],
   "source": [
    "2"
   ]
  },
  {
   "cell_type": "code",
   "execution_count": null,
   "id": "630e8bd4",
   "metadata": {},
   "outputs": [],
   "source": [
    "#Define a function named is_vowel. It should return True if the passed string is a vowel, False otherwise."
   ]
  },
  {
   "cell_type": "code",
   "execution_count": 18,
   "id": "81dc071a",
   "metadata": {},
   "outputs": [],
   "source": [
    "def is_vowel(x):\n",
    "    if x == 'A' 'E' 'I' 'O' 'U':\n",
    "        return True\n",
    "    else:\n",
    "        return False"
   ]
  },
  {
   "cell_type": "code",
   "execution_count": null,
   "id": "53a44c81",
   "metadata": {},
   "outputs": [],
   "source": [
    "#Define a function named is_consonant. It should return True if the passed string is a consonant, \n",
    "    #False otherwise. Use your is_vowel function to accomplish this."
   ]
  },
  {
   "cell_type": "code",
   "execution_count": 68,
   "id": "c13eed47",
   "metadata": {},
   "outputs": [],
   "source": [
    "def is_consonant(x):\n",
    "    if x == 'B' 'C' 'D' 'F' 'G' 'J' 'K' 'L' 'M' 'N' 'P' 'Q' 'S' 'T' 'V' 'X' 'Z' 'H' 'R' 'W' 'Y':\n",
    "        return True\n",
    "    else:\n",
    "        return False"
   ]
  },
  {
   "cell_type": "code",
   "execution_count": null,
   "id": "cbf4d3e5",
   "metadata": {},
   "outputs": [],
   "source": [
    "#Define a function that accepts a string that is a word. The function should capitalize the first letter \n",
    "    #of the word if the word starts with a consonant."
   ]
  },
  {
   "cell_type": "code",
   "execution_count": 29,
   "id": "532b042c",
   "metadata": {
    "scrolled": true
   },
   "outputs": [
    {
     "name": "stdout",
     "output_type": "stream",
     "text": [
      "Please submit a word:paper\n"
     ]
    }
   ],
   "source": [
    "#4\n",
    "def str(x):\n",
    "    if x == \n",
    "    if x == string:\n",
    "        return .split([0])\n",
    "\n",
    "    if"
   ]
  },
  {
   "cell_type": "code",
   "execution_count": null,
   "id": "605e1cb6",
   "metadata": {},
   "outputs": [],
   "source": [
    "#Define a function named calculate_tip. It should accept a tip percentage (a number between 0 and 1)\n",
    "    #and the bill total, and return the amount to tip."
   ]
  },
  {
   "cell_type": "code",
   "execution_count": 66,
   "id": "cc2f59bb",
   "metadata": {},
   "outputs": [
    {
     "ename": "NameError",
     "evalue": "name 'is_consonant' is not defined",
     "output_type": "error",
     "traceback": [
      "\u001b[0;31m---------------------------------------------------------------------------\u001b[0m",
      "\u001b[0;31mNameError\u001b[0m                                 Traceback (most recent call last)",
      "Input \u001b[0;32mIn [66]\u001b[0m, in \u001b[0;36m<cell line: 1>\u001b[0;34m()\u001b[0m\n\u001b[0;32m----> 1\u001b[0m \u001b[43mis_consonant\u001b[49m(string\u001b[38;5;241m*\u001b[39mstring[\u001b[38;5;241m0\u001b[39m])\n",
      "\u001b[0;31mNameError\u001b[0m: name 'is_consonant' is not defined"
     ]
    }
   ],
   "source": [
    "is_consonant = \n",
    "is_consonant(string*string[0])"
   ]
  },
  {
   "cell_type": "code",
   "execution_count": null,
   "id": "bb071f5e",
   "metadata": {},
   "outputs": [],
   "source": [
    "#Define a function named apply_discount. It should accept a original price, and a discount percentage, \n",
    "    #and return the price after the discount is applied."
   ]
  },
  {
   "cell_type": "code",
   "execution_count": 36,
   "id": "62ce3e2e",
   "metadata": {},
   "outputs": [
    {
     "name": "stdout",
     "output_type": "stream",
     "text": [
      "Enter the String: Baby\n",
      "false\n"
     ]
    }
   ],
   "source": [
    "string = input('Enter the String: ')\n",
    "\n",
    "if string[0].lower() in ['bcdfgjklmnpqstvxzhrwy']:\n",
    "    print(string,'starts with consonant',string[0])\n",
    "else:\n",
    "    print('false')"
   ]
  },
  {
   "cell_type": "code",
   "execution_count": null,
   "id": "cf285c80",
   "metadata": {},
   "outputs": [],
   "source": [
    "#Define a function named handle_commas. It should accept a string that is a number that contains commas \n",
    "    #in it as input, and return a number as output."
   ]
  },
  {
   "cell_type": "code",
   "execution_count": null,
   "id": "d58e5f1f",
   "metadata": {
    "scrolled": true
   },
   "outputs": [],
   "source": [
    "#5\n",
    "x = int()\n",
    "tip = x*.08\n",
    "total = x+tip\n",
    "\n",
    "def x:\n",
    "    if x == total:\n",
    "        return total"
   ]
  },
  {
   "cell_type": "code",
   "execution_count": null,
   "id": "ca9dac8e",
   "metadata": {},
   "outputs": [],
   "source": [
    "#Define a function named get_letter_grade. It should accept a number and return the letter grade associated \n",
    "    #with that number (A-F)."
   ]
  },
  {
   "cell_type": "code",
   "execution_count": 50,
   "id": "362b7cb2",
   "metadata": {},
   "outputs": [
    {
     "name": "stdout",
     "output_type": "stream",
     "text": [
      "2\n",
      "2.16\n",
      "2.3328\n",
      "2.5194240000000003\n",
      "2.72097792\n",
      "2.9386561536\n",
      "3.173748645888\n",
      "3.4276485375590404\n",
      "3.7018604205637637\n",
      "3.9980092542088648\n",
      "4.317849994545574\n",
      "4.66327799410922\n",
      "5.036340233637957\n",
      "5.439247452328994\n",
      "5.874387248515314\n",
      "6.344338228396539\n",
      "6.851885286668262\n",
      "7.400036109601722\n",
      "7.9920389983698605\n",
      "8.63140211823945\n",
      "9.321914287698606\n",
      "10.067667430714494\n",
      "10.873080825171654\n",
      "11.742927291185385\n",
      "12.682361474480215\n",
      "13.696950392438632\n",
      "14.792706423833723\n",
      "15.97612293774042\n",
      "17.254212772759654\n",
      "18.634549794580426\n",
      "20.12531377814686\n",
      "21.73533888039861\n",
      "23.4741659908305\n",
      "25.35209927009694\n",
      "27.380267211704695\n",
      "29.57068858864107\n",
      "31.936343675732353\n",
      "34.49125116979094\n",
      "37.25055126337422\n",
      "40.230595364444156\n",
      "43.44904299359969\n",
      "46.92496643308767\n",
      "50.678963747734684\n",
      "54.73328084755346\n",
      "59.111943315357735\n",
      "63.84089878058636\n",
      "68.94817068303327\n",
      "74.46402433767594\n",
      "80.42114628469001\n",
      "86.85483798746522\n",
      "93.80322502646243\n"
     ]
    }
   ],
   "source": [
    "x = 2\n",
    "while x < 100:\n",
    "    print(x)\n",
    "    x = x+(x*.08)"
   ]
  },
  {
   "cell_type": "code",
   "execution_count": null,
   "id": "7c61fb8b",
   "metadata": {},
   "outputs": [],
   "source": [
    "#Define a function named remove_vowels that accepts a string and returns a string with all the vowels removed."
   ]
  },
  {
   "cell_type": "code",
   "execution_count": 57,
   "id": "947ab3d4",
   "metadata": {},
   "outputs": [],
   "source": [
    "#6\n",
    "def apply_discount():\n",
    "    if x == int():\n",
    "        return int()*x"
   ]
  },
  {
   "cell_type": "code",
   "execution_count": null,
   "id": "9cabd249",
   "metadata": {},
   "outputs": [],
   "source": [
    "#Define a function named apply_discount. It should accept a original price, and a discount percentage, \n",
    "    #and return the price after the discount is applied."
   ]
  },
  {
   "cell_type": "code",
   "execution_count": 60,
   "id": "5e367f5e",
   "metadata": {
    "scrolled": true
   },
   "outputs": [
    {
     "ename": "SyntaxError",
     "evalue": "invalid syntax (1584872139.py, line 3)",
     "output_type": "error",
     "traceback": [
      "\u001b[0;36m  Input \u001b[0;32mIn [60]\u001b[0;36m\u001b[0m\n\u001b[0;31m    def handle_commas(int(str)):\u001b[0m\n\u001b[0m                         ^\u001b[0m\n\u001b[0;31mSyntaxError\u001b[0m\u001b[0;31m:\u001b[0m invalid syntax\n"
     ]
    }
   ],
   "source": [
    "#7\n",
    "int(str)\n",
    "def handle_commas(int(str)):\n",
    "    if x == str(int(x)):\n",
    "        return int(x)"
   ]
  },
  {
   "cell_type": "code",
   "execution_count": null,
   "id": "82f08cad",
   "metadata": {},
   "outputs": [],
   "source": [
    "#Define a function named remove_vowels that accepts a string and returns a string with all the vowels removed."
   ]
  },
  {
   "cell_type": "code",
   "execution_count": 67,
   "id": "b0c4a07d",
   "metadata": {},
   "outputs": [
    {
     "ename": "ModuleNotFoundError",
     "evalue": "No module named 'functions_exercises'",
     "output_type": "error",
     "traceback": [
      "\u001b[0;31m---------------------------------------------------------------------------\u001b[0m",
      "\u001b[0;31mModuleNotFoundError\u001b[0m                       Traceback (most recent call last)",
      "Input \u001b[0;32mIn [67]\u001b[0m, in \u001b[0;36m<cell line: 1>\u001b[0;34m()\u001b[0m\n\u001b[0;32m----> 1\u001b[0m \u001b[38;5;28;01mimport\u001b[39;00m \u001b[38;5;21;01mfunctions_exercises\u001b[39;00m\u001b[38;5;21;01m.\u001b[39;00m\u001b[38;5;21;01mpy\u001b[39;00m\n",
      "\u001b[0;31mModuleNotFoundError\u001b[0m: No module named 'functions_exercises'"
     ]
    }
   ],
   "source": [
    "import functions_exercises.py"
   ]
  },
  {
   "cell_type": "code",
   "execution_count": null,
   "id": "a5d70a96",
   "metadata": {},
   "outputs": [],
   "source": [
    "#Define a function named get_letter_grade. It should accept a number and return the letter grade associated \n",
    "    #with that number (A-F)."
   ]
  },
  {
   "cell_type": "code",
   "execution_count": null,
   "id": "f3b9db9c",
   "metadata": {},
   "outputs": [],
   "source": []
  },
  {
   "cell_type": "code",
   "execution_count": null,
   "id": "fb1f974e",
   "metadata": {},
   "outputs": [],
   "source": [
    "#Define a function named remove_vowels that accepts a string and returns a string with all the vowels removed."
   ]
  },
  {
   "cell_type": "code",
   "execution_count": null,
   "id": "4973a635",
   "metadata": {},
   "outputs": [],
   "source": []
  },
  {
   "cell_type": "code",
   "execution_count": null,
   "id": "d59326d2",
   "metadata": {},
   "outputs": [],
   "source": [
    "#Define a function named get_letter_grade. It should accept a number and return the letter grade associated \n",
    "    #with that number (A-F)."
   ]
  },
  {
   "cell_type": "code",
   "execution_count": null,
   "id": "d4bd894b",
   "metadata": {},
   "outputs": [],
   "source": []
  },
  {
   "cell_type": "code",
   "execution_count": null,
   "id": "9c132554",
   "metadata": {},
   "outputs": [],
   "source": [
    "#Define a function named handle_commas. It should accept a string that is a number that contains commas \n",
    "    #in it as input, and return a number as output."
   ]
  },
  {
   "cell_type": "code",
   "execution_count": 80,
   "id": "b3297b9f",
   "metadata": {},
   "outputs": [],
   "source": [
    "def first_letter(x):\n",
    "    if x == str:\n",
    "        print(upper.str[0])"
   ]
  },
  {
   "cell_type": "code",
   "execution_count": 81,
   "id": "8ff0dda7",
   "metadata": {},
   "outputs": [],
   "source": [
    "first_letter('paper')"
   ]
  },
  {
   "cell_type": "code",
   "execution_count": null,
   "id": "5fc01bcd",
   "metadata": {},
   "outputs": [],
   "source": []
  }
 ],
 "metadata": {
  "kernelspec": {
   "display_name": "Python 3 (ipykernel)",
   "language": "python",
   "name": "python3"
  },
  "language_info": {
   "codemirror_mode": {
    "name": "ipython",
    "version": 3
   },
   "file_extension": ".py",
   "mimetype": "text/x-python",
   "name": "python",
   "nbconvert_exporter": "python",
   "pygments_lexer": "ipython3",
   "version": "3.9.13"
  }
 },
 "nbformat": 4,
 "nbformat_minor": 5
}
